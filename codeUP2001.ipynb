{
 "cells": [
  {
   "cell_type": "code",
   "execution_count": 1,
   "metadata": {},
   "outputs": [
    {
     "name": "stdout",
     "output_type": "stream",
     "text": [
      "800\n",
      "700\n",
      "900\n",
      "198\n",
      "330\n",
      "987.8\n"
     ]
    }
   ],
   "source": [
    "p = []\n",
    "j = []\n",
    "\n",
    "for i in range(3):\n",
    "    m = int(input())\n",
    "    p.append(m)\n",
    "p.sort()\n",
    "\n",
    "for i in range(2):\n",
    "    m = int(input())\n",
    "    j.append(m)\n",
    "j.sort()\n",
    "\n",
    "s = p[0] + j[0]\n",
    "s += s/10\n",
    "\n",
    "print(s)"
   ]
  },
  {
   "cell_type": "code",
   "execution_count": null,
   "metadata": {},
   "outputs": [],
   "source": []
  }
 ],
 "metadata": {
  "kernelspec": {
   "display_name": "Python 3",
   "language": "python",
   "name": "python3"
  },
  "language_info": {
   "codemirror_mode": {
    "name": "ipython",
    "version": 3
   },
   "file_extension": ".py",
   "mimetype": "text/x-python",
   "name": "python",
   "nbconvert_exporter": "python",
   "pygments_lexer": "ipython3",
   "version": "3.8.3"
  }
 },
 "nbformat": 4,
 "nbformat_minor": 4
}
