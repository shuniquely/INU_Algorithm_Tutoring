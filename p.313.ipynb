{
 "cells": [
  {
   "cell_type": "code",
   "execution_count": 4,
   "metadata": {},
   "outputs": [
    {
     "name": "stdout",
     "output_type": "stream",
     "text": [
      "101010000000011110\n",
      "4\n"
     ]
    }
   ],
   "source": [
    "S = input()\n",
    "different = False\n",
    "count = 0\n",
    "\n",
    "for i in range(len(S) - 1):\n",
    "    if S[i] != S[i+1]: # 값이 달라지는 경우마다 different의 bool값을 바꾼다.\n",
    "        different = not different\n",
    "        if different: count += 1 # 하지만 횟수는 different의 값이 True일 때만 증가한다.\n",
    "\n",
    "print(count)"
   ]
  },
  {
   "cell_type": "code",
   "execution_count": null,
   "metadata": {},
   "outputs": [],
   "source": []
  }
 ],
 "metadata": {
  "kernelspec": {
   "display_name": "Python 3",
   "language": "python",
   "name": "python3"
  },
  "language_info": {
   "codemirror_mode": {
    "name": "ipython",
    "version": 3
   },
   "file_extension": ".py",
   "mimetype": "text/x-python",
   "name": "python",
   "nbconvert_exporter": "python",
   "pygments_lexer": "ipython3",
   "version": "3.8.3"
  }
 },
 "nbformat": 4,
 "nbformat_minor": 4
}
