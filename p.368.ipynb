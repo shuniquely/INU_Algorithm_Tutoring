{
 "cells": [
  {
   "cell_type": "code",
   "execution_count": 1,
   "metadata": {},
   "outputs": [],
   "source": [
    "def fixed_Point(a, s, e): # 고정점을 찾는 함수\n",
    "    if s > e:\n",
    "        return -1\n",
    "    \n",
    "    mid = (s + e) // 2\n",
    "    \n",
    "    if a[mid] == mid: # 배열의 중간값이 중간인덱스 번호와 일치하면 고정점이므로 리턴\n",
    "        return a[mid]\n",
    "    \n",
    "    elif a[mid] < mid: # 고정점이 아니며 인덱스 번호보다 원소값이 작다면 뒤에서 탐색\n",
    "        return fixed_Point(a, mid+1, e)\n",
    "    \n",
    "    else: # 고정점이 아니며 인덱스 번호보다 원소값이 크다면 앞에서 탐색\n",
    "        return fixed_Point(a, s, mid-1)"
   ]
  },
  {
   "cell_type": "code",
   "execution_count": 2,
   "metadata": {},
   "outputs": [
    {
     "name": "stdout",
     "output_type": "stream",
     "text": [
      "7\n",
      "-15 -4 2 8 9 13 15\n",
      "2\n"
     ]
    }
   ],
   "source": [
    "N = int(input())\n",
    "array = list(map(int, input().split()))\n",
    "\n",
    "print(fixed_Point(array, 0, N-1))"
   ]
  },
  {
   "cell_type": "code",
   "execution_count": null,
   "metadata": {},
   "outputs": [],
   "source": []
  }
 ],
 "metadata": {
  "kernelspec": {
   "display_name": "Python 3",
   "language": "python",
   "name": "python3"
  },
  "language_info": {
   "codemirror_mode": {
    "name": "ipython",
    "version": 3
   },
   "file_extension": ".py",
   "mimetype": "text/x-python",
   "name": "python",
   "nbconvert_exporter": "python",
   "pygments_lexer": "ipython3",
   "version": "3.8.3"
  }
 },
 "nbformat": 4,
 "nbformat_minor": 4
}
