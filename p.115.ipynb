{
 "cells": [
  {
   "cell_type": "code",
   "execution_count": 1,
   "metadata": {},
   "outputs": [
    {
     "name": "stdout",
     "output_type": "stream",
     "text": [
      "a1\n",
      "2\n"
     ]
    }
   ],
   "source": [
    "knight = input()\n",
    "X = int(ord(knight[0])) - int(ord(\"a\")) + 1\n",
    "Y = int(knight[1])\n",
    "count = 0\n",
    "\n",
    "moveList = [(1, 2), (1, -2), (2, 1), (2, -1), (-1, 2), (-1, -2), (-2, 1), (-2, -1)]\n",
    "\n",
    "for move in moveList: # 이동 후 범위를 벗어나지 않는지 확인\n",
    "    next_X =  X + move[0]\n",
    "    next_Y = Y + move[1]\n",
    "    \n",
    "    if 1 <= next_X <= 8 and 1 <= next_Y <= 8:\n",
    "        count += 1\n",
    "\n",
    "print(count)"
   ]
  },
  {
   "cell_type": "code",
   "execution_count": null,
   "metadata": {},
   "outputs": [],
   "source": []
  }
 ],
 "metadata": {
  "kernelspec": {
   "display_name": "Python 3",
   "language": "python",
   "name": "python3"
  },
  "language_info": {
   "codemirror_mode": {
    "name": "ipython",
    "version": 3
   },
   "file_extension": ".py",
   "mimetype": "text/x-python",
   "name": "python",
   "nbconvert_exporter": "python",
   "pygments_lexer": "ipython3",
   "version": "3.8.3"
  }
 },
 "nbformat": 4,
 "nbformat_minor": 4
}
