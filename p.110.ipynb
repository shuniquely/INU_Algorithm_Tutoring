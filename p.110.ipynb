{
 "cells": [
  {
   "cell_type": "code",
   "execution_count": 2,
   "metadata": {},
   "outputs": [
    {
     "name": "stdout",
     "output_type": "stream",
     "text": [
      "5\n",
      "R R R U D D\n",
      "3 4\n"
     ]
    }
   ],
   "source": [
    "N = int(input())\n",
    "move = list(input().split())\n",
    "X, Y = 1, 1\n",
    "\n",
    "for i in move: # 범위를 벗어나지 않게 원하는 방향으로 X, Y축을 변경\n",
    "    if i == \"L\" and Y != 1:\n",
    "        Y -= 1\n",
    "    elif i == \"R\" and Y != N:\n",
    "        Y += 1\n",
    "    elif i == \"U\" and X != 1:\n",
    "        X -= 1\n",
    "    elif i == \"D\" and X != N:\n",
    "        X += 1\n",
    "\n",
    "print(X, Y, sep=\" \")"
   ]
  },
  {
   "cell_type": "code",
   "execution_count": null,
   "metadata": {},
   "outputs": [],
   "source": []
  }
 ],
 "metadata": {
  "kernelspec": {
   "display_name": "Python 3",
   "language": "python",
   "name": "python3"
  },
  "language_info": {
   "codemirror_mode": {
    "name": "ipython",
    "version": 3
   },
   "file_extension": ".py",
   "mimetype": "text/x-python",
   "name": "python",
   "nbconvert_exporter": "python",
   "pygments_lexer": "ipython3",
   "version": "3.8.3"
  }
 },
 "nbformat": 4,
 "nbformat_minor": 4
}
