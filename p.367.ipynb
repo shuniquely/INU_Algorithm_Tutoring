{
 "cells": [
  {
   "cell_type": "code",
   "execution_count": 1,
   "metadata": {},
   "outputs": [],
   "source": [
    "def First(a, target, s, e, index): # 찾는 원소가 처음으로 나오는 인덱스를 알려주는 함수\n",
    "    if s > e:\n",
    "        return index\n",
    "    \n",
    "    mid = (s + e) // 2\n",
    "    \n",
    "    if target == a[mid]: # 배열의 가운데 값과 찾는 원소가 같다면 index를 업데이트하며 앞에 찾는 원소가 더 없는지 탐색한다.\n",
    "        return First(a, target, s, mid-1, mid)\n",
    "            \n",
    "    elif target < a[mid]: # 배열의 가운데 값보다 찾는 원소가 작다면, index를 업데이트 하지 않고 이어서 앞에 찾는 원소가 더 없는지 탐색한다.\n",
    "        return First(a, target, s, mid-1, index)\n",
    "        \n",
    "    else: # 배열의 가운데 값보다 찾는 원소가 크다면, index를 업데이트 하지 않고 이어서 뒤에 찾는 원소가 더 없는지 탐색한다.\n",
    "        return First(a, target, mid+1, e, index)\n",
    "\n",
    "def Last(a, target, s, e, index): # 찾는 원소가 마지막으로 나오는 인덱스를 알려주는 함수\n",
    "    if s > e:\n",
    "        return index\n",
    "    \n",
    "    mid = (s + e) // 2\n",
    "        \n",
    "    if target == a[mid]: # 배열의 가운데 값과 찾는 원소가 같다면 index를 업데이트하며 뒤에 찾는 원소가 더 없는지 탐색한다.\n",
    "        return Last(a, target, mid+1, e, mid)\n",
    "        \n",
    "    elif target < a[mid]:\n",
    "        return Last(a, target, s, mid-1, index)\n",
    "        \n",
    "    else:\n",
    "        return Last(a, target, mid+1, e, index)"
   ]
  },
  {
   "cell_type": "code",
   "execution_count": 2,
   "metadata": {},
   "outputs": [
    {
     "name": "stdout",
     "output_type": "stream",
     "text": [
      "7 4\n",
      "1 1 2 2 2 2 3\n",
      "-1\n"
     ]
    }
   ],
   "source": [
    "N, x = map(int, input().split())\n",
    "array = list(map(int, input().split()))\n",
    "\n",
    "if x not in array: # 찾는 원소가 array에 포함되어 있지 않다면 -1을 출력한다.\n",
    "    print(-1)\n",
    "\n",
    "else:\n",
    "    F_index = First(array, x, 0, N-1, -1) # 처음 index의 값은 쓰레기 값\n",
    "    L_index = Last(array, x, 0, N-1, -1)\n",
    "    print(L_index - F_index + 1)"
   ]
  },
  {
   "cell_type": "code",
   "execution_count": null,
   "metadata": {},
   "outputs": [],
   "source": []
  }
 ],
 "metadata": {
  "kernelspec": {
   "display_name": "Python 3",
   "language": "python",
   "name": "python3"
  },
  "language_info": {
   "codemirror_mode": {
    "name": "ipython",
    "version": 3
   },
   "file_extension": ".py",
   "mimetype": "text/x-python",
   "name": "python",
   "nbconvert_exporter": "python",
   "pygments_lexer": "ipython3",
   "version": "3.8.3"
  }
 },
 "nbformat": 4,
 "nbformat_minor": 4
}
