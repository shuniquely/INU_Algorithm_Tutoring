{
 "cells": [
  {
   "cell_type": "code",
   "execution_count": 3,
   "metadata": {},
   "outputs": [
    {
     "name": "stdout",
     "output_type": "stream",
     "text": [
      "123402\n",
      "LUCKY\n"
     ]
    }
   ],
   "source": [
    "N = int(input())\n",
    "N = str(N)\n",
    "\n",
    "S1 = 0\n",
    "S2 = 0\n",
    "\n",
    "for i in range((len(N))//2):\n",
    "    S1 += int(N[i])\n",
    "for i in range((len(N)//2), len(N)):\n",
    "    S2 += int(N[i])\n",
    "\n",
    "if S1 == S2:\n",
    "    print(f\"LUCKY\")\n",
    "else:\n",
    "    print(f\"READY\")"
   ]
  },
  {
   "cell_type": "code",
   "execution_count": null,
   "metadata": {},
   "outputs": [],
   "source": []
  }
 ],
 "metadata": {
  "kernelspec": {
   "display_name": "Python 3",
   "language": "python",
   "name": "python3"
  },
  "language_info": {
   "codemirror_mode": {
    "name": "ipython",
    "version": 3
   },
   "file_extension": ".py",
   "mimetype": "text/x-python",
   "name": "python",
   "nbconvert_exporter": "python",
   "pygments_lexer": "ipython3",
   "version": "3.8.3"
  }
 },
 "nbformat": 4,
 "nbformat_minor": 4
}
