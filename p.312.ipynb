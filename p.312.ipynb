{
 "cells": [
  {
   "cell_type": "code",
   "execution_count": 15,
   "metadata": {},
   "outputs": [
    {
     "name": "stdout",
     "output_type": "stream",
     "text": [
      "567\n",
      "210\n"
     ]
    }
   ],
   "source": [
    "S = input()\n",
    "result = int(S[0]) # 왼쪽 값부터 계산 시작\n",
    "\n",
    "for i in range(1, len(S)):\n",
    "    N = int(S[i])\n",
    "    if N <= 1 or result <= 1:# 왼쪽 값과 현재까지 계산된 값 둘 중 하나라도 0이거나 1이면 덧셈을 한다.\n",
    "        result += N\n",
    "        continue\n",
    "    result *= N # 그 외의 모든 경우는 곱셈을 한다.\n",
    "\n",
    "print(result)"
   ]
  },
  {
   "cell_type": "code",
   "execution_count": null,
   "metadata": {},
   "outputs": [],
   "source": []
  }
 ],
 "metadata": {
  "kernelspec": {
   "display_name": "Python 3",
   "language": "python",
   "name": "python3"
  },
  "language_info": {
   "codemirror_mode": {
    "name": "ipython",
    "version": 3
   },
   "file_extension": ".py",
   "mimetype": "text/x-python",
   "name": "python",
   "nbconvert_exporter": "python",
   "pygments_lexer": "ipython3",
   "version": "3.8.3"
  }
 },
 "nbformat": 4,
 "nbformat_minor": 4
}
