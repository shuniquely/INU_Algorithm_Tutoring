{
 "cells": [
  {
   "cell_type": "code",
   "execution_count": 2,
   "metadata": {},
   "outputs": [],
   "source": [
    "def solution(N, stages):\n",
    "    result = []\n",
    "    length = len(stages)\n",
    "    \n",
    "    for i in range(1, N + 1):\n",
    "        count = stages.count(i)\n",
    "        \n",
    "        if length == 0:\n",
    "            fail = 0\n",
    "        \n",
    "        else:\n",
    "            fail = count / length\n",
    "        \n",
    "        result.append((i, fail))\n",
    "        length -= count\n",
    "    \n",
    "    result = sorted(result, key = lambda t: t[1], reverse=True)\n",
    "    \n",
    "    result = [i[0] for i in result]\n",
    "    return result"
   ]
  },
  {
   "cell_type": "code",
   "execution_count": null,
   "metadata": {},
   "outputs": [],
   "source": []
  }
 ],
 "metadata": {
  "kernelspec": {
   "display_name": "Python 3",
   "language": "python",
   "name": "python3"
  },
  "language_info": {
   "codemirror_mode": {
    "name": "ipython",
    "version": 3
   },
   "file_extension": ".py",
   "mimetype": "text/x-python",
   "name": "python",
   "nbconvert_exporter": "python",
   "pygments_lexer": "ipython3",
   "version": "3.8.3"
  }
 },
 "nbformat": 4,
 "nbformat_minor": 4
}
