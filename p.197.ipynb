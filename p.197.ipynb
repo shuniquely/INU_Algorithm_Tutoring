{
 "cells": [
  {
   "cell_type": "code",
   "execution_count": 5,
   "metadata": {},
   "outputs": [
    {
     "name": "stdout",
     "output_type": "stream",
     "text": [
      "5\n",
      "8 3 5 7 9\n",
      "3\n",
      "5 7 9\n",
      "yes\n",
      "yes\n",
      "yes\n"
     ]
    }
   ],
   "source": [
    "def Binary_search (array, target, start, end):\n",
    "    if start > end:\n",
    "        return 'no'\n",
    "    \n",
    "    else:\n",
    "        mid = (start + end) // 2\n",
    "        \n",
    "        if array[mid] == target:\n",
    "            return 'yes'\n",
    "        \n",
    "        elif array[mid] > target:\n",
    "            return Binary_search(array, target, start, mid-1)\n",
    "        \n",
    "        else:\n",
    "            return Binary_search (array, target, mid+1, end)\n",
    "\n",
    "def SortList(array, n):\n",
    "    for i in range(n-1):\n",
    "        for j in range(i+1, n):\n",
    "            if array[j] < array[i]:\n",
    "                array[i], array[j] = array[j], array[i]\n",
    "        \n",
    "    return array\n",
    "\n",
    "N = int(input())\n",
    "BS_List = list(map(int, input().split(' ')))\n",
    "M = int(input())\n",
    "cheakList = list(map(int, input().split(' ')))\n",
    "\n",
    "BS_List = SortList(BS_List, N)\n",
    "\n",
    "for i in cheakList:\n",
    "    print(Binary_search(BS_List, cheakList[0], 0, N-1))"
   ]
  },
  {
   "cell_type": "code",
   "execution_count": null,
   "metadata": {},
   "outputs": [],
   "source": []
  }
 ],
 "metadata": {
  "kernelspec": {
   "display_name": "Python 3",
   "language": "python",
   "name": "python3"
  },
  "language_info": {
   "codemirror_mode": {
    "name": "ipython",
    "version": 3
   },
   "file_extension": ".py",
   "mimetype": "text/x-python",
   "name": "python",
   "nbconvert_exporter": "python",
   "pygments_lexer": "ipython3",
   "version": "3.8.3"
  }
 },
 "nbformat": 4,
 "nbformat_minor": 4
}
